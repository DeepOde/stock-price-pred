{
 "cells": [
  {
   "cell_type": "code",
   "execution_count": 1,
   "metadata": {},
   "outputs": [],
   "source": [
    "import numpy as np\n",
    "import pandas as pd\n",
    "from preprocessing.wrangling import get_indi_df, get_labels, slide_and_flatten\n",
    "from preprocessing.extract_features import get_all_ta_features, get_wavelet_coeffs\n",
    "from evaluation.eval import sliding_window_cv_regression, batch_test_swcv_regression\n",
    "from sklearn.metrics import mean_squared_error, mean_absolute_percentage_error, r2_score\n",
    "from sklearn.preprocessing import StandardScaler, RobustScaler\n",
    "from sklearn.feature_selection import SelectFromModel\n",
    "from sklearn.linear_model import Lasso\n",
    "from sklearn.ensemble import RandomForestRegressor\n",
    "from numpy.lib.stride_tricks import sliding_window_view\n",
    "from xgboost import XGBRegressor\n",
    "from sklearn.pipeline import make_pipeline"
   ]
  },
  {
   "cell_type": "code",
   "execution_count": 2,
   "metadata": {},
   "outputs": [
    {
     "name": "stderr",
     "output_type": "stream",
     "text": [
      "/home/eee/anaconda3/lib/python3.9/site-packages/ta/trend.py:769: RuntimeWarning: invalid value encountered in double_scalars\n",
      "  dip[idx] = 100 * (self._dip[idx] / value)\n",
      "/home/eee/anaconda3/lib/python3.9/site-packages/ta/trend.py:774: RuntimeWarning: invalid value encountered in double_scalars\n",
      "  din[idx] = 100 * (self._din[idx] / value)\n"
     ]
    }
   ],
   "source": [
    "df = get_indi_df(\"ASHOKLEY.NS\", ohlcvfile=\"data_collection/ohlcv_data/ohlcv_auto.csv\", start_date=\"2017-01-01\")\n",
    "df = get_all_ta_features(df)\n",
    "drop_columns = ['Date']\n",
    "df.drop(drop_columns, axis=1, inplace=True)\n",
    "move_dir_target, cls_target = get_labels(df['Close'])\n",
    "df = df.iloc[:-1]\n",
    "cls_target = cls_target.iloc[:-1]"
   ]
  },
  {
   "cell_type": "code",
   "execution_count": 3,
   "metadata": {},
   "outputs": [],
   "source": [
    "df10 = slide_and_flatten(df, window_len=10)\n",
    "df10 = pd.DataFrame(df10, index=df.index[9:])\n",
    "df30 = slide_and_flatten(df, window_len=30)\n",
    "df30 = pd.DataFrame(df30, index=df.index[29:])\n",
    "df60 = slide_and_flatten(df, window_len=60)\n",
    "df60 = pd.DataFrame(df60, index=df.index[59:])\n",
    "\n",
    "df10_wavelet = get_wavelet_coeffs(df['Close'], len_window=10, decomp_level=2)\n",
    "df10_wavelet = pd.DataFrame.from_records(df10_wavelet, index=df10.index)\n",
    "df30_wavelet = get_wavelet_coeffs(df['Close'], len_window=30, decomp_level=2)\n",
    "df30_wavelet = pd.DataFrame.from_records(df30_wavelet, index=df30.index)\n",
    "df60_wavelet = get_wavelet_coeffs(df['Close'], len_window=60, decomp_level=2)\n",
    "df60_wavelet = pd.DataFrame.from_records(df60_wavelet, index=df60.index)"
   ]
  },
  {
   "cell_type": "code",
   "execution_count": 30,
   "metadata": {},
   "outputs": [],
   "source": [
    "df10 = df10.merge(df10_wavelet, left_index=True, right_index=True)\n",
    "df30 = df30.merge(df30_wavelet, left_index=True, right_index=True)\n",
    "df60 = df60.merge(df60_wavelet, left_index=True, right_index=True)"
   ]
  },
  {
   "cell_type": "code",
   "execution_count": 32,
   "metadata": {},
   "outputs": [],
   "source": [
    "pipe1 = make_pipeline(\n",
    "    (RobustScaler()),\n",
    "    (RandomForestRegressor(n_estimators=100))\n",
    ")\n",
    "\n",
    "pipe2 = make_pipeline(\n",
    "    (RobustScaler()),\n",
    "    (RandomForestRegressor(n_estimators=200))\n",
    ")"
   ]
  },
  {
   "cell_type": "code",
   "execution_count": 33,
   "metadata": {},
   "outputs": [],
   "source": [
    "y = cls_target - df['Close']\n",
    "y10 = cls_target[9:] - df['Close'].iloc[9:]\n",
    "y30 = cls_target[29:] - df['Close'].iloc[29:]\n",
    "y60 = cls_target[59:] - df['Close'].iloc[59:]\n",
    "\n",
    "def add_closing_price(y, cls_price):\n",
    "    return y + cls_price"
   ]
  },
  {
   "cell_type": "code",
   "execution_count": 34,
   "metadata": {},
   "outputs": [],
   "source": [
    "batch_test_swcv_regression(\n",
    "    list_X = [df30, df60],\n",
    "    list_y = [y30, y60],\n",
    "    list_pipe = [pipe1, pipe2],\n",
    "    list_n_tr = [120],\n",
    "    list_n_ts = [1],\n",
    "    scorers = [mean_squared_error,mean_absolute_percentage_error, r2_score],\n",
    "    savefile='rfg_tests.csv',\n",
    "    comment_X=[\"df10_wavelet\", \"df60_wavelet\"],\n",
    "    list_post_processors=[(add_closing_price, {'cls_price':df['Close'].iloc[29:len(df)-(120+1)]}),\n",
    "    (add_closing_price, {'cls_price':df['Close'].iloc[59:len(df)-(120+1)]})]\n",
    ")\n",
    "\n",
    "# cls_price should have length len(X)-(n_tr+n_ts)"
   ]
  }
 ],
 "metadata": {
  "interpreter": {
   "hash": "4d956a392b67227f401c129a901ef5c98887812674686cb9105f1c9b415cc849"
  },
  "kernelspec": {
   "display_name": "Python 3.9.7 ('base')",
   "language": "python",
   "name": "python3"
  },
  "language_info": {
   "codemirror_mode": {
    "name": "ipython",
    "version": 3
   },
   "file_extension": ".py",
   "mimetype": "text/x-python",
   "name": "python",
   "nbconvert_exporter": "python",
   "pygments_lexer": "ipython3",
   "version": "3.9.7"
  },
  "orig_nbformat": 4
 },
 "nbformat": 4,
 "nbformat_minor": 2
}
