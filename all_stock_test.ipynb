{
 "metadata": {
  "language_info": {
   "codemirror_mode": {
    "name": "ipython",
    "version": 3
   },
   "file_extension": ".py",
   "mimetype": "text/x-python",
   "name": "python",
   "nbconvert_exporter": "python",
   "pygments_lexer": "ipython3",
   "version": "3.9.2-final"
  },
  "orig_nbformat": 2,
  "kernelspec": {
   "name": "python3",
   "display_name": "Python 3.9.2 64-bit",
   "metadata": {
    "interpreter": {
     "hash": "7de31f413531e91ebec935718bb5d86c720cbf6e34786de01ce87ffc441a6e95"
    }
   }
  }
 },
 "nbformat": 4,
 "nbformat_minor": 2,
 "cells": [
  {
   "cell_type": "code",
   "execution_count": 2,
   "metadata": {},
   "outputs": [],
   "source": [
    "import numpy as np\n",
    "import pandas as pd\n",
    "from preprocessing.wrangling import get_indi_df, get_labels, slide_and_flatten\n",
    "from preprocessing.extract_features import get_all_ta_features, get_wavelet_coeffs\n",
    "from evaluation.eval import all_stock_estimator_test\n",
    "from sklearn.metrics import mean_squared_error, mean_absolute_percentage_error, r2_score\n",
    "from sklearn.preprocessing import StandardScaler, RobustScaler\n",
    "from sklearn.feature_selection import SelectFromModel\n",
    "from sklearn.linear_model import Lasso\n",
    "from sklearn.ensemble import RandomForestRegressor\n",
    "from numpy.lib.stride_tricks import sliding_window_view\n",
    "from xgboost import XGBRegressor\n",
    "from sklearn.pipeline import make_pipeline\n",
    "import os"
   ]
  },
  {
   "cell_type": "code",
   "execution_count": 3,
   "metadata": {},
   "outputs": [
    {
     "output_type": "stream",
     "name": "stdout",
     "text": [
      "['Date', 'Adj Close', 'Open', 'High', 'Low', 'Close', 'Volume'] Index(['volume_adi', 'volume_obv', 'volume_cmf', 'volume_fi', 'volume_em',\n       'volume_sma_em', 'volume_vpt', 'volume_vwap', 'volume_mfi',\n       'volume_nvi', 'volatility_bbm', 'volatility_bbh', 'volatility_bbl',\n       'volatility_bbw', 'volatility_bbp', 'volatility_bbhi',\n       'volatility_bbli', 'volatility_kcc', 'volatility_kch', 'volatility_kcl',\n       'volatility_kcw', 'volatility_kcp', 'volatility_kchi',\n       'volatility_kcli', 'volatility_dcl', 'volatility_dch', 'volatility_dcm',\n       'volatility_dcw', 'volatility_dcp', 'volatility_atr', 'volatility_ui',\n       'trend_macd', 'trend_macd_signal', 'trend_macd_diff', 'trend_sma_fast',\n       'trend_sma_slow', 'trend_ema_fast', 'trend_ema_slow',\n       'trend_vortex_ind_pos', 'trend_vortex_ind_neg', 'trend_vortex_ind_diff',\n       'trend_trix', 'trend_mass_index', 'trend_dpo', 'trend_kst',\n       'trend_kst_sig', 'trend_kst_diff', 'trend_ichimoku_conv',\n       'trend_ichimoku_base', 'trend_ichimoku_a', 'trend_ichimoku_b',\n       'trend_stc', 'trend_adx', 'trend_adx_pos', 'trend_adx_neg', 'trend_cci',\n       'trend_visual_ichimoku_a', 'trend_visual_ichimoku_b', 'trend_aroon_up',\n       'trend_aroon_down', 'trend_aroon_ind', 'trend_psar_up',\n       'trend_psar_down', 'trend_psar_up_indicator',\n       'trend_psar_down_indicator', 'momentum_rsi', 'momentum_stoch_rsi',\n       'momentum_stoch_rsi_k', 'momentum_stoch_rsi_d', 'momentum_tsi',\n       'momentum_uo', 'momentum_stoch', 'momentum_stoch_signal', 'momentum_wr',\n       'momentum_ao', 'momentum_roc', 'momentum_ppo', 'momentum_ppo_signal',\n       'momentum_ppo_hist', 'momentum_pvo', 'momentum_pvo_signal',\n       'momentum_pvo_hist', 'momentum_kama', 'others_dr', 'others_dlr',\n       'others_cr'],\n      dtype='object', name='Ticker')\n"
     ]
    }
   ],
   "source": [
    "list_dir = 'data_collection/stocks_list'\n",
    "list_prefix = \"ind_nifty\"\n",
    "list_suffix = \"list.csv\"\n",
    "save_dir = 'data_collection/ohlcv_data'\n",
    "save_prefix = \"ohlcv_\"\n",
    "save_suffix = \".csv\"\n",
    "results_file = 'results/all_stock_ohlcv_rfg.csv'\n",
    "rfg_estimator = make_pipeline((RobustScaler()),\n",
    "                    (RandomForestRegressor()))\n",
    "\n",
    "all_stock_estimator_test(list_dir=list_dir, list_prefix=list_prefix, list_suffix=list_suffix, save_dir=save_dir, save_prefix=save_prefix, save_suffix=save_suffix, results_file=results_file, estimator=rfg_estimator,\n",
    " n_tr=120, n_ts=1, scorers=[mean_squared_error,mean_absolute_percentage_error, r2_score], len_window=10, \n",
    " keep_features={'ta'}, comment='ohlcv_', start_date=\"2017-01-01\", end_date=None)"
   ]
  }
 ]
}