{
 "cells": [
  {
   "cell_type": "code",
   "execution_count": 1,
   "metadata": {},
   "outputs": [
    {
     "name": "stderr",
     "output_type": "stream",
     "text": [
      "c:\\python3.9.2\\lib\\site-packages\\statsmodels\\compat\\pandas.py:61: FutureWarning: pandas.Int64Index is deprecated and will be removed from pandas in a future version. Use pandas.Index with the appropriate dtype instead.\n",
      "  from pandas import Int64Index as NumericIndex\n"
     ]
    }
   ],
   "source": [
    "import numpy as np\n",
    "import pandas as pd\n",
    "from preprocessing.wrangling import get_indi_df, get_labels, slide_and_flatten\n",
    "from preprocessing.extract_features import get_all_ta_features, get_wavelet_coeffs\n",
    "from evaluation.eval import all_stock_estimator_test\n",
    "from sklearn.metrics import mean_squared_error, mean_absolute_percentage_error, r2_score\n",
    "from sklearn.preprocessing import StandardScaler, RobustScaler\n",
    "from sklearn.feature_selection import SelectFromModel\n",
    "from sklearn.linear_model import Lasso\n",
    "from sklearn.ensemble import RandomForestRegressor\n",
    "from sklearn.svm import SVR\n",
    "from numpy.lib.stride_tricks import sliding_window_view\n",
    "from xgboost import XGBRegressor\n",
    "from sklearn.pipeline import make_pipeline\n",
    "import os"
   ]
  },
  {
   "cell_type": "code",
   "execution_count": null,
   "metadata": {},
   "outputs": [
    {
     "name": "stdout",
     "output_type": "stream",
     "text": [
      "Result obtained for AMARAJABAT.NS\n",
      "Result obtained for ASHOKLEY.NS\n",
      "Result obtained for BAJAJ-AUTO.NS\n",
      "Result obtained for BALKRISIND.NS\n",
      "Result obtained for BHARATFORG.NS\n",
      "Result obtained for BOSCHLTD.NS\n",
      "Result obtained for EICHERMOT.NS\n",
      "Result obtained for EXIDEIND.NS\n",
      "Result obtained for HEROMOTOCO.NS\n",
      "Result obtained for MRF.NS\n",
      "Result obtained for M&M.NS\n",
      "Result obtained for MARUTI.NS\n",
      "Result obtained for TVSMOTOR.NS\n",
      "Result obtained for TATAMOTORS.NS\n",
      "Result obtained for TIINDIA.NS\n",
      "Result obtained for AUBANK.NS\n",
      "Result obtained for AXISBANK.NS\n",
      "Result obtained for BANDHANBNK.NS\n",
      "Result obtained for FEDERALBNK.NS\n",
      "Result obtained for HDFCBANK.NS\n",
      "Result obtained for ICICIBANK.NS\n",
      "Result obtained for IDFCFIRSTB.NS\n",
      "Result obtained for INDUSINDBK.NS\n",
      "Result obtained for KOTAKBANK.NS\n",
      "Result obtained for PNB.NS\n",
      "Result obtained for RBLBANK.NS\n",
      "Result obtained for SBIN.NS\n",
      "Result obtained for AMBER.NS\n",
      "Result obtained for BATAINDIA.NS\n",
      "Result obtained for BLUESTARCO.NS\n",
      "Result obtained for CROMPTON.NS\n",
      "Result obtained for DIXON.NS\n",
      "Result obtained for HAVELLS.NS\n",
      "Result obtained for KAJARIACER.NS\n",
      "Result obtained for ORIENTELEC.NS\n",
      "Result obtained for RAJESHEXPO.NS\n",
      "Result obtained for RELAXO.NS\n",
      "Result obtained for TTKPRESTIG.NS\n",
      "Result obtained for TITAN.NS\n",
      "Result obtained for VGUARD.NS\n",
      "Result obtained for VOLTAS.NS\n",
      "Result obtained for WHIRLPOOL.NS\n",
      "Result obtained for AXISBANK.NS\n",
      "Result obtained for BAJFINANCE.NS\n",
      "Result obtained for BAJAJFINSV.NS\n",
      "Result obtained for CHOLAFIN.NS\n",
      "Result obtained for HDFCAMC.NS\n",
      "Result obtained for HDFCBANK.NS\n",
      "Result obtained for HDFCLIFE.NS\n",
      "Result obtained for HDFC.NS\n",
      "Result obtained for ICICIBANK.NS\n",
      "Result obtained for ICICIGI.NS\n",
      "Result obtained for ICICIPRULI.NS\n",
      "Result obtained for KOTAKBANK.NS\n",
      "Result obtained for M&MFIN.NS\n",
      "Result obtained for MUTHOOTFIN.NS\n",
      "Result obtained for PEL.NS\n",
      "Result obtained for PFC.NS\n",
      "Result obtained for RECLTD.NS\n",
      "Result obtained for SBILIFE.NS\n",
      "Result obtained for SRTRANSFIN.NS\n",
      "Result obtained for SBIN.NS\n",
      "Result obtained for BRITANNIA.NS\n",
      "Result obtained for COLPAL.NS\n",
      "Result obtained for DABUR.NS\n",
      "Result obtained for EMAMILTD.NS\n",
      "Result obtained for GODREJCP.NS\n",
      "Result obtained for HINDUNILVR.NS\n",
      "Result obtained for ITC.NS\n",
      "Result obtained for MARICO.NS\n",
      "Result obtained for NESTLEIND.NS\n",
      "Result obtained for PGHH.NS\n",
      "Result obtained for RADICO.NS\n",
      "Result obtained for TATACONSUM.NS\n",
      "Result obtained for UBL.NS\n",
      "Result obtained for MCDOWELL-N.NS\n",
      "Result obtained for VBL.NS\n",
      "Result obtained for APLLTD.NS\n",
      "Result obtained for ALKEM.NS\n",
      "Result obtained for APOLLOHOSP.NS\n",
      "Result obtained for AUROPHARMA.NS\n",
      "Result obtained for BIOCON.NS\n",
      "Result obtained for CADILAHC.NS\n",
      "Result obtained for CIPLA.NS\n",
      "Result obtained for DIVISLAB.NS\n",
      "Result obtained for LALPATHLAB.NS\n",
      "Result obtained for DRREDDY.NS\n",
      "Result obtained for GLENMARK.NS\n",
      "Result obtained for GRANULES.NS\n",
      "Result obtained for IPCALAB.NS\n",
      "Result obtained for LAURUSLABS.NS\n",
      "Result obtained for LUPIN.NS\n",
      "Result obtained for METROPOLIS.NS\n",
      "Result obtained for PFIZER.NS\n",
      "Result obtained for STAR.NS\n",
      "Result obtained for SUNPHARMA.NS\n",
      "Result obtained for TORNTPHARM.NS\n",
      "Result obtained for COFORGE.NS\n",
      "Result obtained for HCLTECH.NS\n",
      "Result obtained for INFY.NS\n",
      "Result obtained for LTTS.NS\n",
      "Result obtained for LTI.NS\n",
      "Result obtained for MINDTREE.NS\n",
      "Result obtained for MPHASIS.NS\n",
      "Result obtained for TCS.NS\n",
      "Result obtained for TECHM.NS\n",
      "Result obtained for WIPRO.NS\n",
      "Result obtained for DISHTV.NS\n",
      "Result obtained for HATHWAY.NS\n",
      "Result obtained for INOXLEISUR.NS\n",
      "An error occured while testing on a stock NAZARA.NS\n",
      "operands could not be broadcast together with shapes (0,) (146,) \n",
      "Skipped.\n",
      "Result obtained for NETWORK18.NS\n",
      "Result obtained for PVR.NS\n",
      "Result obtained for SAREGAMA.NS\n",
      "Result obtained for SUNTV.NS\n",
      "Result obtained for TV18BRDCST.NS\n",
      "Result obtained for ZEEL.NS\n",
      "Result obtained for APLAPOLLO.NS\n",
      "Result obtained for ADANIENT.NS\n",
      "Result obtained for COALINDIA.NS\n",
      "Result obtained for HINDALCO.NS\n",
      "Result obtained for HINDCOPPER.NS\n",
      "Result obtained for HINDZINC.NS\n",
      "Result obtained for JSWSTEEL.NS\n",
      "Result obtained for JINDALSTEL.NS\n",
      "Result obtained for NMDC.NS\n",
      "Result obtained for NATIONALUM.NS\n",
      "Result obtained for RATNAMANI.NS\n",
      "Result obtained for SAIL.NS\n",
      "Result obtained for TATASTEEL.NS\n",
      "Result obtained for VEDL.NS\n",
      "Result obtained for WELCORP.NS\n",
      "Result obtained for ATGL.NS\n",
      "Result obtained for BPCL.NS\n",
      "Result obtained for CASTROLIND.NS\n",
      "Result obtained for GAIL.NS\n",
      "Result obtained for GUJGASLTD.NS\n",
      "Result obtained for GSPL.NS\n",
      "Result obtained for HINDPETRO.NS\n",
      "Result obtained for IOC.NS\n",
      "Result obtained for IGL.NS\n",
      "Result obtained for MGL.NS\n",
      "Result obtained for MRPL.NS\n",
      "Result obtained for ONGC.NS\n",
      "Result obtained for OIL.NS\n",
      "Result obtained for PETRONET.NS\n",
      "Result obtained for RELIANCE.NS\n",
      "Result obtained for ABBOTINDIA.NS\n",
      "Result obtained for APLLTD.NS\n",
      "Result obtained for ALKEM.NS\n",
      "Result obtained for AUROPHARMA.NS\n",
      "Result obtained for BIOCON.NS\n",
      "Result obtained for CADILAHC.NS\n",
      "Result obtained for CIPLA.NS\n",
      "Result obtained for DIVISLAB.NS\n",
      "Result obtained for DRREDDY.NS\n",
      "An error occured while testing on a stock GLAND.NS\n",
      "Found array with 0 sample(s) (shape=(0,)) while a minimum of 1 is required.\n",
      "Skipped.\n",
      "Result obtained for GLENMARK.NS\n",
      "Result obtained for GRANULES.NS\n",
      "Result obtained for IPCALAB.NS\n",
      "Result obtained for LAURUSLABS.NS\n",
      "Result obtained for LUPIN.NS\n",
      "Result obtained for NATCOPHARM.NS\n",
      "Result obtained for PFIZER.NS\n",
      "Result obtained for STAR.NS\n",
      "Result obtained for SUNPHARMA.NS\n",
      "Result obtained for TORNTPHARM.NS\n",
      "Result obtained for BANKBARODA.NS\n",
      "Result obtained for BANKINDIA.NS\n",
      "Result obtained for MAHABANK.NS\n",
      "Result obtained for CANBK.NS\n",
      "Result obtained for CENTRALBK.NS\n",
      "Result obtained for INDIANB.NS\n",
      "Result obtained for IOB.NS\n",
      "Result obtained for J&KBANK.NS\n",
      "Result obtained for PSB.NS\n",
      "Result obtained for PNB.NS\n",
      "Result obtained for SBIN.NS\n",
      "Result obtained for UCOBANK.NS\n",
      "Result obtained for UNIONBANK.NS\n",
      "Result obtained for BRIGADE.NS\n",
      "Result obtained for DLF.NS\n",
      "Result obtained for GODREJPROP.NS\n",
      "Result obtained for IBREALEST.NS\n",
      "An error occured while testing on a stock LODHA.NS\n",
      "operands could not be broadcast together with shapes (0,) (122,) \n",
      "Skipped.\n",
      "Result obtained for OBEROIRLTY.NS\n",
      "Result obtained for PHOENIXLTD.NS\n",
      "Result obtained for PRESTIGE.NS\n",
      "Result obtained for SOBHA.NS\n",
      "Result obtained for SUNTECK.NS\n",
      "Result obtained for AXISBANK.NS\n",
      "Result obtained for BANDHANBNK.NS\n",
      "Result obtained for CUB.NS\n",
      "Result obtained for FEDERALBNK.NS\n",
      "Result obtained for HDFCBANK.NS\n",
      "Result obtained for ICICIBANK.NS\n",
      "Result obtained for IDFCFIRSTB.NS\n",
      "Result obtained for INDUSINDBK.NS\n",
      "Result obtained for KOTAKBANK.NS\n",
      "Result obtained for RBLBANK.NS\n",
      "Completed all stocks test.\n"
     ]
    },
    {
     "name": "stderr",
     "output_type": "stream",
     "text": [
      "c:\\python3.9.2\\lib\\site-packages\\ta\\trend.py:769: RuntimeWarning: invalid value encountered in double_scalars\n",
      "  dip[idx] = 100 * (self._dip[idx] / value)\n",
      "c:\\python3.9.2\\lib\\site-packages\\ta\\trend.py:774: RuntimeWarning: invalid value encountered in double_scalars\n",
      "  din[idx] = 100 * (self._din[idx] / value)\n",
      "c:\\python3.9.2\\lib\\site-packages\\ta\\trend.py:938: FutureWarning: The default dtype for empty Series will be 'object' instead of 'float64' in a future version. Specify a dtype explicitly to silence this warning.\n",
      "  self._psar_up = pd.Series(index=self._psar.index)\n",
      "c:\\python3.9.2\\lib\\site-packages\\ta\\trend.py:939: FutureWarning: The default dtype for empty Series will be 'object' instead of 'float64' in a future version. Specify a dtype explicitly to silence this warning.\n",
      "  self._psar_down = pd.Series(index=self._psar.index)\n"
     ]
    },
    {
     "name": "stdout",
     "output_type": "stream",
     "text": [
      "Result obtained for AMARAJABAT.NS\n"
     ]
    },
    {
     "name": "stderr",
     "output_type": "stream",
     "text": [
      "c:\\python3.9.2\\lib\\site-packages\\ta\\trend.py:769: RuntimeWarning: invalid value encountered in double_scalars\n",
      "  dip[idx] = 100 * (self._dip[idx] / value)\n",
      "c:\\python3.9.2\\lib\\site-packages\\ta\\trend.py:774: RuntimeWarning: invalid value encountered in double_scalars\n",
      "  din[idx] = 100 * (self._din[idx] / value)\n",
      "c:\\python3.9.2\\lib\\site-packages\\ta\\trend.py:938: FutureWarning: The default dtype for empty Series will be 'object' instead of 'float64' in a future version. Specify a dtype explicitly to silence this warning.\n",
      "  self._psar_up = pd.Series(index=self._psar.index)\n",
      "c:\\python3.9.2\\lib\\site-packages\\ta\\trend.py:939: FutureWarning: The default dtype for empty Series will be 'object' instead of 'float64' in a future version. Specify a dtype explicitly to silence this warning.\n",
      "  self._psar_down = pd.Series(index=self._psar.index)\n"
     ]
    },
    {
     "name": "stdout",
     "output_type": "stream",
     "text": [
      "Result obtained for ASHOKLEY.NS\n"
     ]
    },
    {
     "name": "stderr",
     "output_type": "stream",
     "text": [
      "c:\\python3.9.2\\lib\\site-packages\\ta\\trend.py:769: RuntimeWarning: invalid value encountered in double_scalars\n",
      "  dip[idx] = 100 * (self._dip[idx] / value)\n",
      "c:\\python3.9.2\\lib\\site-packages\\ta\\trend.py:774: RuntimeWarning: invalid value encountered in double_scalars\n",
      "  din[idx] = 100 * (self._din[idx] / value)\n",
      "c:\\python3.9.2\\lib\\site-packages\\ta\\trend.py:938: FutureWarning: The default dtype for empty Series will be 'object' instead of 'float64' in a future version. Specify a dtype explicitly to silence this warning.\n",
      "  self._psar_up = pd.Series(index=self._psar.index)\n",
      "c:\\python3.9.2\\lib\\site-packages\\ta\\trend.py:939: FutureWarning: The default dtype for empty Series will be 'object' instead of 'float64' in a future version. Specify a dtype explicitly to silence this warning.\n",
      "  self._psar_down = pd.Series(index=self._psar.index)\n"
     ]
    },
    {
     "name": "stdout",
     "output_type": "stream",
     "text": [
      "Result obtained for BAJAJ-AUTO.NS\n"
     ]
    },
    {
     "name": "stderr",
     "output_type": "stream",
     "text": [
      "c:\\python3.9.2\\lib\\site-packages\\ta\\trend.py:769: RuntimeWarning: invalid value encountered in double_scalars\n",
      "  dip[idx] = 100 * (self._dip[idx] / value)\n",
      "c:\\python3.9.2\\lib\\site-packages\\ta\\trend.py:774: RuntimeWarning: invalid value encountered in double_scalars\n",
      "  din[idx] = 100 * (self._din[idx] / value)\n",
      "c:\\python3.9.2\\lib\\site-packages\\ta\\trend.py:938: FutureWarning: The default dtype for empty Series will be 'object' instead of 'float64' in a future version. Specify a dtype explicitly to silence this warning.\n",
      "  self._psar_up = pd.Series(index=self._psar.index)\n",
      "c:\\python3.9.2\\lib\\site-packages\\ta\\trend.py:939: FutureWarning: The default dtype for empty Series will be 'object' instead of 'float64' in a future version. Specify a dtype explicitly to silence this warning.\n",
      "  self._psar_down = pd.Series(index=self._psar.index)\n"
     ]
    },
    {
     "name": "stdout",
     "output_type": "stream",
     "text": [
      "Result obtained for BALKRISIND.NS\n"
     ]
    },
    {
     "name": "stderr",
     "output_type": "stream",
     "text": [
      "c:\\python3.9.2\\lib\\site-packages\\ta\\trend.py:769: RuntimeWarning: invalid value encountered in double_scalars\n",
      "  dip[idx] = 100 * (self._dip[idx] / value)\n",
      "c:\\python3.9.2\\lib\\site-packages\\ta\\trend.py:774: RuntimeWarning: invalid value encountered in double_scalars\n",
      "  din[idx] = 100 * (self._din[idx] / value)\n",
      "c:\\python3.9.2\\lib\\site-packages\\ta\\trend.py:938: FutureWarning: The default dtype for empty Series will be 'object' instead of 'float64' in a future version. Specify a dtype explicitly to silence this warning.\n",
      "  self._psar_up = pd.Series(index=self._psar.index)\n",
      "c:\\python3.9.2\\lib\\site-packages\\ta\\trend.py:939: FutureWarning: The default dtype for empty Series will be 'object' instead of 'float64' in a future version. Specify a dtype explicitly to silence this warning.\n",
      "  self._psar_down = pd.Series(index=self._psar.index)\n"
     ]
    },
    {
     "name": "stdout",
     "output_type": "stream",
     "text": [
      "Result obtained for BHARATFORG.NS\n"
     ]
    },
    {
     "name": "stderr",
     "output_type": "stream",
     "text": [
      "c:\\python3.9.2\\lib\\site-packages\\ta\\trend.py:769: RuntimeWarning: invalid value encountered in double_scalars\n",
      "  dip[idx] = 100 * (self._dip[idx] / value)\n",
      "c:\\python3.9.2\\lib\\site-packages\\ta\\trend.py:774: RuntimeWarning: invalid value encountered in double_scalars\n",
      "  din[idx] = 100 * (self._din[idx] / value)\n",
      "c:\\python3.9.2\\lib\\site-packages\\ta\\trend.py:938: FutureWarning: The default dtype for empty Series will be 'object' instead of 'float64' in a future version. Specify a dtype explicitly to silence this warning.\n",
      "  self._psar_up = pd.Series(index=self._psar.index)\n",
      "c:\\python3.9.2\\lib\\site-packages\\ta\\trend.py:939: FutureWarning: The default dtype for empty Series will be 'object' instead of 'float64' in a future version. Specify a dtype explicitly to silence this warning.\n",
      "  self._psar_down = pd.Series(index=self._psar.index)\n"
     ]
    },
    {
     "name": "stdout",
     "output_type": "stream",
     "text": [
      "Result obtained for BOSCHLTD.NS\n"
     ]
    },
    {
     "name": "stderr",
     "output_type": "stream",
     "text": [
      "c:\\python3.9.2\\lib\\site-packages\\ta\\trend.py:769: RuntimeWarning: invalid value encountered in double_scalars\n",
      "  dip[idx] = 100 * (self._dip[idx] / value)\n",
      "c:\\python3.9.2\\lib\\site-packages\\ta\\trend.py:774: RuntimeWarning: invalid value encountered in double_scalars\n",
      "  din[idx] = 100 * (self._din[idx] / value)\n",
      "c:\\python3.9.2\\lib\\site-packages\\ta\\trend.py:938: FutureWarning: The default dtype for empty Series will be 'object' instead of 'float64' in a future version. Specify a dtype explicitly to silence this warning.\n",
      "  self._psar_up = pd.Series(index=self._psar.index)\n",
      "c:\\python3.9.2\\lib\\site-packages\\ta\\trend.py:939: FutureWarning: The default dtype for empty Series will be 'object' instead of 'float64' in a future version. Specify a dtype explicitly to silence this warning.\n",
      "  self._psar_down = pd.Series(index=self._psar.index)\n"
     ]
    },
    {
     "name": "stdout",
     "output_type": "stream",
     "text": [
      "Result obtained for EICHERMOT.NS\n"
     ]
    },
    {
     "name": "stderr",
     "output_type": "stream",
     "text": [
      "c:\\python3.9.2\\lib\\site-packages\\ta\\trend.py:769: RuntimeWarning: invalid value encountered in double_scalars\n",
      "  dip[idx] = 100 * (self._dip[idx] / value)\n",
      "c:\\python3.9.2\\lib\\site-packages\\ta\\trend.py:774: RuntimeWarning: invalid value encountered in double_scalars\n",
      "  din[idx] = 100 * (self._din[idx] / value)\n",
      "c:\\python3.9.2\\lib\\site-packages\\ta\\trend.py:938: FutureWarning: The default dtype for empty Series will be 'object' instead of 'float64' in a future version. Specify a dtype explicitly to silence this warning.\n",
      "  self._psar_up = pd.Series(index=self._psar.index)\n",
      "c:\\python3.9.2\\lib\\site-packages\\ta\\trend.py:939: FutureWarning: The default dtype for empty Series will be 'object' instead of 'float64' in a future version. Specify a dtype explicitly to silence this warning.\n",
      "  self._psar_down = pd.Series(index=self._psar.index)\n"
     ]
    },
    {
     "name": "stdout",
     "output_type": "stream",
     "text": [
      "Result obtained for EXIDEIND.NS\n"
     ]
    },
    {
     "name": "stderr",
     "output_type": "stream",
     "text": [
      "c:\\python3.9.2\\lib\\site-packages\\ta\\trend.py:769: RuntimeWarning: invalid value encountered in double_scalars\n",
      "  dip[idx] = 100 * (self._dip[idx] / value)\n",
      "c:\\python3.9.2\\lib\\site-packages\\ta\\trend.py:774: RuntimeWarning: invalid value encountered in double_scalars\n",
      "  din[idx] = 100 * (self._din[idx] / value)\n",
      "c:\\python3.9.2\\lib\\site-packages\\ta\\trend.py:938: FutureWarning: The default dtype for empty Series will be 'object' instead of 'float64' in a future version. Specify a dtype explicitly to silence this warning.\n",
      "  self._psar_up = pd.Series(index=self._psar.index)\n",
      "c:\\python3.9.2\\lib\\site-packages\\ta\\trend.py:939: FutureWarning: The default dtype for empty Series will be 'object' instead of 'float64' in a future version. Specify a dtype explicitly to silence this warning.\n",
      "  self._psar_down = pd.Series(index=self._psar.index)\n"
     ]
    },
    {
     "name": "stdout",
     "output_type": "stream",
     "text": [
      "Result obtained for HEROMOTOCO.NS\n"
     ]
    },
    {
     "name": "stderr",
     "output_type": "stream",
     "text": [
      "c:\\python3.9.2\\lib\\site-packages\\ta\\trend.py:769: RuntimeWarning: invalid value encountered in double_scalars\n",
      "  dip[idx] = 100 * (self._dip[idx] / value)\n",
      "c:\\python3.9.2\\lib\\site-packages\\ta\\trend.py:774: RuntimeWarning: invalid value encountered in double_scalars\n",
      "  din[idx] = 100 * (self._din[idx] / value)\n",
      "c:\\python3.9.2\\lib\\site-packages\\ta\\trend.py:938: FutureWarning: The default dtype for empty Series will be 'object' instead of 'float64' in a future version. Specify a dtype explicitly to silence this warning.\n",
      "  self._psar_up = pd.Series(index=self._psar.index)\n",
      "c:\\python3.9.2\\lib\\site-packages\\ta\\trend.py:939: FutureWarning: The default dtype for empty Series will be 'object' instead of 'float64' in a future version. Specify a dtype explicitly to silence this warning.\n",
      "  self._psar_down = pd.Series(index=self._psar.index)\n"
     ]
    },
    {
     "name": "stdout",
     "output_type": "stream",
     "text": [
      "Result obtained for MRF.NS\n"
     ]
    },
    {
     "name": "stderr",
     "output_type": "stream",
     "text": [
      "c:\\python3.9.2\\lib\\site-packages\\ta\\trend.py:769: RuntimeWarning: invalid value encountered in double_scalars\n",
      "  dip[idx] = 100 * (self._dip[idx] / value)\n",
      "c:\\python3.9.2\\lib\\site-packages\\ta\\trend.py:774: RuntimeWarning: invalid value encountered in double_scalars\n",
      "  din[idx] = 100 * (self._din[idx] / value)\n",
      "c:\\python3.9.2\\lib\\site-packages\\ta\\trend.py:938: FutureWarning: The default dtype for empty Series will be 'object' instead of 'float64' in a future version. Specify a dtype explicitly to silence this warning.\n",
      "  self._psar_up = pd.Series(index=self._psar.index)\n",
      "c:\\python3.9.2\\lib\\site-packages\\ta\\trend.py:939: FutureWarning: The default dtype for empty Series will be 'object' instead of 'float64' in a future version. Specify a dtype explicitly to silence this warning.\n",
      "  self._psar_down = pd.Series(index=self._psar.index)\n"
     ]
    },
    {
     "name": "stdout",
     "output_type": "stream",
     "text": [
      "Result obtained for M&M.NS\n"
     ]
    },
    {
     "name": "stderr",
     "output_type": "stream",
     "text": [
      "c:\\python3.9.2\\lib\\site-packages\\ta\\trend.py:769: RuntimeWarning: invalid value encountered in double_scalars\n",
      "  dip[idx] = 100 * (self._dip[idx] / value)\n",
      "c:\\python3.9.2\\lib\\site-packages\\ta\\trend.py:774: RuntimeWarning: invalid value encountered in double_scalars\n",
      "  din[idx] = 100 * (self._din[idx] / value)\n",
      "c:\\python3.9.2\\lib\\site-packages\\ta\\trend.py:938: FutureWarning: The default dtype for empty Series will be 'object' instead of 'float64' in a future version. Specify a dtype explicitly to silence this warning.\n",
      "  self._psar_up = pd.Series(index=self._psar.index)\n",
      "c:\\python3.9.2\\lib\\site-packages\\ta\\trend.py:939: FutureWarning: The default dtype for empty Series will be 'object' instead of 'float64' in a future version. Specify a dtype explicitly to silence this warning.\n",
      "  self._psar_down = pd.Series(index=self._psar.index)\n"
     ]
    },
    {
     "name": "stdout",
     "output_type": "stream",
     "text": [
      "An error occured while testing on a stock MARUTI.NS\n",
      "Length of X ([]) must match that of y ([]).\n",
      "Skipped.\n"
     ]
    },
    {
     "name": "stderr",
     "output_type": "stream",
     "text": [
      "c:\\python3.9.2\\lib\\site-packages\\ta\\trend.py:769: RuntimeWarning: invalid value encountered in double_scalars\n",
      "  dip[idx] = 100 * (self._dip[idx] / value)\n",
      "c:\\python3.9.2\\lib\\site-packages\\ta\\trend.py:774: RuntimeWarning: invalid value encountered in double_scalars\n",
      "  din[idx] = 100 * (self._din[idx] / value)\n",
      "c:\\python3.9.2\\lib\\site-packages\\ta\\trend.py:938: FutureWarning: The default dtype for empty Series will be 'object' instead of 'float64' in a future version. Specify a dtype explicitly to silence this warning.\n",
      "  self._psar_up = pd.Series(index=self._psar.index)\n",
      "c:\\python3.9.2\\lib\\site-packages\\ta\\trend.py:939: FutureWarning: The default dtype for empty Series will be 'object' instead of 'float64' in a future version. Specify a dtype explicitly to silence this warning.\n",
      "  self._psar_down = pd.Series(index=self._psar.index)\n"
     ]
    },
    {
     "name": "stdout",
     "output_type": "stream",
     "text": [
      "Result obtained for TVSMOTOR.NS\n"
     ]
    },
    {
     "name": "stderr",
     "output_type": "stream",
     "text": [
      "c:\\python3.9.2\\lib\\site-packages\\ta\\trend.py:769: RuntimeWarning: invalid value encountered in double_scalars\n",
      "  dip[idx] = 100 * (self._dip[idx] / value)\n",
      "c:\\python3.9.2\\lib\\site-packages\\ta\\trend.py:774: RuntimeWarning: invalid value encountered in double_scalars\n",
      "  din[idx] = 100 * (self._din[idx] / value)\n",
      "c:\\python3.9.2\\lib\\site-packages\\ta\\trend.py:938: FutureWarning: The default dtype for empty Series will be 'object' instead of 'float64' in a future version. Specify a dtype explicitly to silence this warning.\n",
      "  self._psar_up = pd.Series(index=self._psar.index)\n",
      "c:\\python3.9.2\\lib\\site-packages\\ta\\trend.py:939: FutureWarning: The default dtype for empty Series will be 'object' instead of 'float64' in a future version. Specify a dtype explicitly to silence this warning.\n",
      "  self._psar_down = pd.Series(index=self._psar.index)\n"
     ]
    },
    {
     "name": "stdout",
     "output_type": "stream",
     "text": [
      "Result obtained for TATAMOTORS.NS\n"
     ]
    },
    {
     "name": "stderr",
     "output_type": "stream",
     "text": [
      "c:\\python3.9.2\\lib\\site-packages\\ta\\trend.py:769: RuntimeWarning: invalid value encountered in double_scalars\n",
      "  dip[idx] = 100 * (self._dip[idx] / value)\n",
      "c:\\python3.9.2\\lib\\site-packages\\ta\\trend.py:774: RuntimeWarning: invalid value encountered in double_scalars\n",
      "  din[idx] = 100 * (self._din[idx] / value)\n",
      "c:\\python3.9.2\\lib\\site-packages\\ta\\trend.py:938: FutureWarning: The default dtype for empty Series will be 'object' instead of 'float64' in a future version. Specify a dtype explicitly to silence this warning.\n",
      "  self._psar_up = pd.Series(index=self._psar.index)\n",
      "c:\\python3.9.2\\lib\\site-packages\\ta\\trend.py:939: FutureWarning: The default dtype for empty Series will be 'object' instead of 'float64' in a future version. Specify a dtype explicitly to silence this warning.\n",
      "  self._psar_down = pd.Series(index=self._psar.index)\n"
     ]
    },
    {
     "name": "stdout",
     "output_type": "stream",
     "text": [
      "Result obtained for TIINDIA.NS\n"
     ]
    },
    {
     "name": "stderr",
     "output_type": "stream",
     "text": [
      "c:\\python3.9.2\\lib\\site-packages\\ta\\trend.py:769: RuntimeWarning: invalid value encountered in double_scalars\n",
      "  dip[idx] = 100 * (self._dip[idx] / value)\n",
      "c:\\python3.9.2\\lib\\site-packages\\ta\\trend.py:774: RuntimeWarning: invalid value encountered in double_scalars\n",
      "  din[idx] = 100 * (self._din[idx] / value)\n",
      "c:\\python3.9.2\\lib\\site-packages\\ta\\trend.py:938: FutureWarning: The default dtype for empty Series will be 'object' instead of 'float64' in a future version. Specify a dtype explicitly to silence this warning.\n",
      "  self._psar_up = pd.Series(index=self._psar.index)\n",
      "c:\\python3.9.2\\lib\\site-packages\\ta\\trend.py:939: FutureWarning: The default dtype for empty Series will be 'object' instead of 'float64' in a future version. Specify a dtype explicitly to silence this warning.\n",
      "  self._psar_down = pd.Series(index=self._psar.index)\n"
     ]
    },
    {
     "name": "stdout",
     "output_type": "stream",
     "text": [
      "Result obtained for AUBANK.NS\n"
     ]
    },
    {
     "name": "stderr",
     "output_type": "stream",
     "text": [
      "c:\\python3.9.2\\lib\\site-packages\\ta\\trend.py:769: RuntimeWarning: invalid value encountered in double_scalars\n",
      "  dip[idx] = 100 * (self._dip[idx] / value)\n",
      "c:\\python3.9.2\\lib\\site-packages\\ta\\trend.py:774: RuntimeWarning: invalid value encountered in double_scalars\n",
      "  din[idx] = 100 * (self._din[idx] / value)\n",
      "c:\\python3.9.2\\lib\\site-packages\\ta\\trend.py:938: FutureWarning: The default dtype for empty Series will be 'object' instead of 'float64' in a future version. Specify a dtype explicitly to silence this warning.\n",
      "  self._psar_up = pd.Series(index=self._psar.index)\n",
      "c:\\python3.9.2\\lib\\site-packages\\ta\\trend.py:939: FutureWarning: The default dtype for empty Series will be 'object' instead of 'float64' in a future version. Specify a dtype explicitly to silence this warning.\n",
      "  self._psar_down = pd.Series(index=self._psar.index)\n"
     ]
    },
    {
     "name": "stdout",
     "output_type": "stream",
     "text": [
      "Result obtained for AXISBANK.NS\n"
     ]
    },
    {
     "name": "stderr",
     "output_type": "stream",
     "text": [
      "c:\\python3.9.2\\lib\\site-packages\\ta\\trend.py:769: RuntimeWarning: invalid value encountered in double_scalars\n",
      "  dip[idx] = 100 * (self._dip[idx] / value)\n",
      "c:\\python3.9.2\\lib\\site-packages\\ta\\trend.py:774: RuntimeWarning: invalid value encountered in double_scalars\n",
      "  din[idx] = 100 * (self._din[idx] / value)\n",
      "c:\\python3.9.2\\lib\\site-packages\\ta\\trend.py:938: FutureWarning: The default dtype for empty Series will be 'object' instead of 'float64' in a future version. Specify a dtype explicitly to silence this warning.\n",
      "  self._psar_up = pd.Series(index=self._psar.index)\n",
      "c:\\python3.9.2\\lib\\site-packages\\ta\\trend.py:939: FutureWarning: The default dtype for empty Series will be 'object' instead of 'float64' in a future version. Specify a dtype explicitly to silence this warning.\n",
      "  self._psar_down = pd.Series(index=self._psar.index)\n"
     ]
    },
    {
     "name": "stdout",
     "output_type": "stream",
     "text": [
      "Result obtained for BANDHANBNK.NS\n"
     ]
    },
    {
     "name": "stderr",
     "output_type": "stream",
     "text": [
      "c:\\python3.9.2\\lib\\site-packages\\ta\\trend.py:769: RuntimeWarning: invalid value encountered in double_scalars\n",
      "  dip[idx] = 100 * (self._dip[idx] / value)\n",
      "c:\\python3.9.2\\lib\\site-packages\\ta\\trend.py:774: RuntimeWarning: invalid value encountered in double_scalars\n",
      "  din[idx] = 100 * (self._din[idx] / value)\n",
      "c:\\python3.9.2\\lib\\site-packages\\ta\\trend.py:938: FutureWarning: The default dtype for empty Series will be 'object' instead of 'float64' in a future version. Specify a dtype explicitly to silence this warning.\n",
      "  self._psar_up = pd.Series(index=self._psar.index)\n",
      "c:\\python3.9.2\\lib\\site-packages\\ta\\trend.py:939: FutureWarning: The default dtype for empty Series will be 'object' instead of 'float64' in a future version. Specify a dtype explicitly to silence this warning.\n",
      "  self._psar_down = pd.Series(index=self._psar.index)\n"
     ]
    },
    {
     "name": "stdout",
     "output_type": "stream",
     "text": [
      "Result obtained for FEDERALBNK.NS\n"
     ]
    },
    {
     "name": "stderr",
     "output_type": "stream",
     "text": [
      "c:\\python3.9.2\\lib\\site-packages\\ta\\trend.py:769: RuntimeWarning: invalid value encountered in double_scalars\n",
      "  dip[idx] = 100 * (self._dip[idx] / value)\n",
      "c:\\python3.9.2\\lib\\site-packages\\ta\\trend.py:774: RuntimeWarning: invalid value encountered in double_scalars\n",
      "  din[idx] = 100 * (self._din[idx] / value)\n",
      "c:\\python3.9.2\\lib\\site-packages\\ta\\trend.py:938: FutureWarning: The default dtype for empty Series will be 'object' instead of 'float64' in a future version. Specify a dtype explicitly to silence this warning.\n",
      "  self._psar_up = pd.Series(index=self._psar.index)\n",
      "c:\\python3.9.2\\lib\\site-packages\\ta\\trend.py:939: FutureWarning: The default dtype for empty Series will be 'object' instead of 'float64' in a future version. Specify a dtype explicitly to silence this warning.\n",
      "  self._psar_down = pd.Series(index=self._psar.index)\n"
     ]
    },
    {
     "name": "stdout",
     "output_type": "stream",
     "text": [
      "Result obtained for HDFCBANK.NS\n"
     ]
    },
    {
     "name": "stderr",
     "output_type": "stream",
     "text": [
      "c:\\python3.9.2\\lib\\site-packages\\ta\\trend.py:769: RuntimeWarning: invalid value encountered in double_scalars\n",
      "  dip[idx] = 100 * (self._dip[idx] / value)\n",
      "c:\\python3.9.2\\lib\\site-packages\\ta\\trend.py:774: RuntimeWarning: invalid value encountered in double_scalars\n",
      "  din[idx] = 100 * (self._din[idx] / value)\n",
      "c:\\python3.9.2\\lib\\site-packages\\ta\\trend.py:938: FutureWarning: The default dtype for empty Series will be 'object' instead of 'float64' in a future version. Specify a dtype explicitly to silence this warning.\n",
      "  self._psar_up = pd.Series(index=self._psar.index)\n",
      "c:\\python3.9.2\\lib\\site-packages\\ta\\trend.py:939: FutureWarning: The default dtype for empty Series will be 'object' instead of 'float64' in a future version. Specify a dtype explicitly to silence this warning.\n",
      "  self._psar_down = pd.Series(index=self._psar.index)\n"
     ]
    }
   ],
   "source": [
    "list_dir = 'data_collection/stocks_list'\n",
    "list_prefix = \"ind_nifty\"\n",
    "list_suffix = \"list.csv\"\n",
    "save_dir = 'data_collection/ohlcv_data'\n",
    "save_prefix = \"ohlcv_\"\n",
    "save_suffix = \".csv\"\n",
    "# results_file = 'results/all_stock_ta_svr.csv'\n",
    "results_file = 'results/open/all_stock_svr_win_len_test.csv'\n",
    "rfg_estimator = make_pipeline((RobustScaler()),\n",
    "                    (RandomForestRegressor()))\n",
    "\n",
    "svr_estimator = make_pipeline((RobustScaler()),\n",
    "                    (SVR()))\n",
    "\n",
    "\n",
    "# all_stock_estimator_test(list_dir=list_dir, list_prefix=list_prefix, list_suffix=list_suffix, save_dir=save_dir, save_prefix=save_prefix, save_suffix=save_suffix, results_file=results_file, estimator=rfg_estimator,\n",
    "#  n_tr=300, n_ts=1, scorers=[mean_squared_error,mean_absolute_percentage_error, r2_score], len_window=10, \n",
    "#  keep_features={'ohlcv'}, comment='ta_', start_date=\"2015-01-01\", end_date=None)\n",
    "\n",
    "# all_stock_estimator_test(list_dir=list_dir, list_prefix=list_prefix, list_suffix=list_suffix, save_dir=save_dir, save_prefix=save_prefix, save_suffix=save_suffix, results_file=results_file, estimator=rfg_estimator,\n",
    "#  n_tr=300, n_ts=1, scorers=[mean_squared_error,mean_absolute_percentage_error, r2_score], len_window=10, \n",
    "#  keep_features={'ta'}, comment='ta_', start_date=\"2015-01-01\", end_date=None)\n",
    "\n",
    "res1 = all_stock_estimator_test(list_dir=list_dir, list_prefix=list_prefix, list_suffix=list_suffix, save_dir=save_dir, save_prefix=save_prefix, save_suffix=save_suffix, results_file=results_file, estimator=svr_estimator,\n",
    " n_tr=300, n_ts=1, scorers=[mean_squared_error,mean_absolute_percentage_error, r2_score], len_window=30, \n",
    " keep_features={'ohlcv'}, comment='ohlcv_', start_date=\"2015-01-01\", end_date=None, target_column='Open')\n",
    "\n",
    "res2 = all_stock_estimator_test(list_dir=list_dir, list_prefix=list_prefix, list_suffix=list_suffix, save_dir=save_dir, save_prefix=save_prefix, save_suffix=save_suffix, results_file=results_file, estimator=svr_estimator,\n",
    " n_tr=300, n_ts=1, scorers=[mean_squared_error,mean_absolute_percentage_error, r2_score], len_window=30, \n",
    " keep_features={'ta'}, comment='ta_', start_date=\"2015-01-01\", end_date=None, target_column='Open')\n",
    "\n",
    "# res3 = all_stock_estimator_test(list_dir=list_dir, list_prefix=list_prefix, list_suffix=list_suffix, save_dir=save_dir, save_prefix=save_prefix, save_suffix=save_suffix, results_file=results_file, estimator=svr_estimator,\n",
    "#  n_tr=300, n_ts=1, scorers=[mean_squared_error,mean_absolute_percentage_error, r2_score], len_window=60, \n",
    "#  keep_features={'ohlcv'}, comment='ohlcv_', start_date=\"2017-01-01\", end_date=None)\n",
    "\n",
    "# res4 = all_stock_estimator_test(list_dir=list_dir, list_prefix=list_prefix, list_suffix=list_suffix, save_dir=save_dir, save_prefix=save_prefix, save_suffix=save_suffix, results_file=results_file, estimator=svr_estimator,\n",
    "#  n_tr=300, n_ts=1, scorers=[mean_squared_error,mean_absolute_percentage_error, r2_score], len_window=60, \n",
    "#  keep_features={'ta'}, comment='ohlcv_', start_date=\"2017-01-01\", end_date=None)\n",
    "\n",
    "# res5 = all_stock_estimator_test(list_dir=list_dir, list_prefix=list_prefix, list_suffix=list_suffix, save_dir=save_dir, save_prefix=save_prefix, save_suffix=save_suffix, results_file=results_file, estimator=svr_estimator,\n",
    "#  n_tr=300, n_ts=1, scorers=[mean_squared_error,mean_absolute_percentage_error, r2_score], len_window=120, \n",
    "#  keep_features={'ohlcv'}, comment='ohlcv_', start_date=\"2017-01-01\", end_date=None)\n",
    "\n",
    "# res6 = all_stock_estimator_test(list_dir=list_dir, list_prefix=list_prefix, list_suffix=list_suffix, save_dir=save_dir, save_prefix=save_prefix, save_suffix=save_suffix, results_file=results_file, estimator=svr_estimator,\n",
    "#  n_tr=300, n_ts=1, scorers=[mean_squared_error,mean_absolute_percentage_error, r2_score], len_window=120, \n",
    "#  keep_features={'ta'}, comment='ta_', start_date=\"2017-01-01\", end_date=None)\n",
    "\n",
    "#  all_stock_estimator_test(list_dir=list_dir, list_prefix=list_prefix, list_suffix=list_suffix, save_dir=save_dir, save_prefix=save_prefix, save_suffix=save_suffix, results_file=results_file, estimator=svr_estimator,\n",
    "#  n_tr=300, n_ts=1, scorers=[mean_squared_error,mean_absolute_percentage_error, r2_score], len_window=180, \n",
    "#  keep_features={'ta'}, comment='ta_', start_date=\"2015-01-01\", end_date=None)\n",
    "\n",
    "#   all_stock_estimator_test(list_dir=list_dir, list_prefix=list_prefix, list_suffix=list_suffix, save_dir=save_dir, save_prefix=save_prefix, save_suffix=save_suffix, results_file=results_file, estimator=svr_estimator,\n",
    "#  n_tr=300, n_ts=1, scorers=[mean_squared_error,mean_absolute_percentage_error, r2_score], len_window=240, \n",
    "#  keep_features={'ta'}, comment='ta_', start_date=\"2015-01-01\", end_date=None)\n",
    "\n",
    "#   all_stock_estimator_test(list_dir=list_dir, list_prefix=list_prefix, list_suffix=list_suffix, save_dir=save_dir, save_prefix=save_prefix, save_suffix=save_suffix, results_file=results_file, estimator=svr_estimator,\n",
    "#  n_tr=300, n_ts=1, scorers=[mean_squared_error,mean_absolute_percentage_error, r2_score], len_window=300, \n",
    "#  keep_features={'ta'}, comment='ta_', start_date=\"2015-01-01\", end_date=None)\n",
    "\n",
    "#   all_stock_estimator_test(list_dir=list_dir, list_prefix=list_prefix, list_suffix=list_suffix, save_dir=save_dir, save_prefix=save_prefix, save_suffix=save_suffix, results_file=results_file, estimator=svr_estimator,\n",
    "#  n_tr=300, n_ts=1, scorers=[mean_squared_error,mean_absolute_percentage_error, r2_score], len_window=450, \n",
    "#  keep_features={'ta'}, comment='ta_', start_date=\"2015-01-01\", end_date=None)\n",
    "\n",
    "#   all_stock_estimator_test(list_dir=list_dir, list_prefix=list_prefix, list_suffix=list_suffix, save_dir=save_dir, save_prefix=save_prefix, save_suffix=save_suffix, results_file=results_file, estimator=svr_estimator,\n",
    "#  n_tr=300, n_ts=1, scorers=[mean_squared_error,mean_absolute_percentage_error, r2_score], len_window=600, \n",
    "#  keep_features={'ta'}, comment='ta_', start_date=\"2015-01-01\", end_date=None)"
   ]
  }
 ],
 "metadata": {
  "kernelspec": {
   "display_name": "Python 3",
   "language": "python",
   "name": "python3"
  },
  "language_info": {
   "codemirror_mode": {
    "name": "ipython",
    "version": 3
   },
   "file_extension": ".py",
   "mimetype": "text/x-python",
   "name": "python",
   "nbconvert_exporter": "python",
   "pygments_lexer": "ipython3",
   "version": "3.9.2"
  }
 },
 "nbformat": 4,
 "nbformat_minor": 2
}